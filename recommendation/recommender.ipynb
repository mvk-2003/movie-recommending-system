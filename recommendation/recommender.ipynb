{
 "cells": [
  {
   "cell_type": "code",
   "execution_count": 26,
   "metadata": {},
   "outputs": [
    {
     "name": "stdout",
     "output_type": "stream",
     "text": [
      "action\n",
      "adventure\n",
      "animation\n",
      "comedy\n",
      "crime\n",
      "documentary\n",
      "drama\n",
      "family\n",
      "fantasy\n",
      "history\n",
      "horror\n",
      "music\n",
      "mystery\n",
      "romance\n",
      "science fiction\n",
      "thriller\n",
      "tv movie\n",
      "war\n",
      "western\n",
      "19\n"
     ]
    }
   ],
   "source": [
    "import requests\n",
    "from bs4 import BeautifulSoup\n",
    "def fetch(url):\n",
    "    src = requests.get(url)\n",
    "    data = BeautifulSoup(src.text,'html.parser')\n",
    "    return data\n",
    "genres = []\n",
    "themes = []\n",
    "data = fetch('https://letterboxd.com/films/popular/')\n",
    "data = data.find_all('ul',class_='smenu-menu')\n",
    "g = data[3].find('li',class_='divider-line').ul.find_all('li')\n",
    "for i in g:\n",
    "    i = i.a.text.lower()\n",
    "    genres.append(i)\n",
    "c=0\n",
    "for i in genres:\n",
    "    c+=1\n",
    "    print(i)\n",
    "print(c)\n"
   ]
  },
  {
   "cell_type": "code",
   "execution_count": 1,
   "metadata": {},
   "outputs": [
    {
     "name": "stderr",
     "output_type": "stream",
     "text": [
      "[nltk_data] Downloading package stopwords to\n",
      "[nltk_data]     C:\\Users\\karth\\AppData\\Roaming\\nltk_data...\n",
      "[nltk_data]   Package stopwords is already up-to-date!\n"
     ]
    }
   ],
   "source": [
    "import nltk\n",
    "import re\n",
    "from nltk.corpus import stopwords\n",
    "from thefuzz import fuzz\n",
    "from collections import Counter\n",
    "nltk.download('stopwords')\n",
    "stop_words = set(stopwords.words('english'))\n",
    "stop_words.add('films')"
   ]
  },
  {
   "cell_type": "code",
   "execution_count": 2,
   "metadata": {},
   "outputs": [],
   "source": [
    "file = open('../recommendation/site/Telugu.csv',encoding='utf8')\n",
    "info = file.read()\n",
    "info = info.replace('\\n','\\t')\n",
    "info = info.split('\\t')\n",
    "titles,years,directors,synopsis,cast,studios,countries,origins,languages,genres,themes = [],[],[],[],[],[],[],[],[],[],[]\n",
    "for i in range(int(len(info)/11)):\n",
    "    text = re.sub(r'[^a-zA-Z0-9\\s]', '', info[i*11])       # removing all special characters from title including comma\n",
    "    titles.append(text.lower())\n",
    "    years.append(info[i*11+1])\n",
    "    text = re.sub(r'[^a-zA-Z0-9,\\s]', '', info[i*11+2])\n",
    "    directors.append(text.lower())\n",
    "    text = info[i*11+3]\n",
    "    synopsis.append(text.lower())\n",
    "    text = re.sub(r'[^a-zA-Z0-9\\s]', '', info[i*11+4])         # excluding comma\n",
    "    cast.append(text.lower())\n",
    "    text = re.sub(r'[^a-zA-Z0-9,\\s]', '', info[i*11+5])\n",
    "    studios.append(text.lower())\n",
    "    text = re.sub(r'[^a-zA-Z0-9,\\s]', '', info[i*11+6])\n",
    "    countries.append(text.lower())\n",
    "    text = re.sub(r'[^a-zA-Z0-9,\\s]', '', info[i*11+7])\n",
    "    origins.append(text.lower())\n",
    "    text = re.sub(r'[^a-zA-Z0-9,\\s]', '', info[i*11+8])\n",
    "    languages.append(text.lower())\n",
    "    text = re.sub(r'[^a-zA-Z0-9,\\s]', '', info[i*11+9])\n",
    "    genres.append(text.lower())\n",
    "    text = re.sub(r'[^a-zA-Z0-9,\\s]', '', info[i*11+10])\n",
    "    themes.append(text.lower())"
   ]
  },
  {
   "cell_type": "code",
   "execution_count": 3,
   "metadata": {},
   "outputs": [
    {
     "name": "stdout",
     "output_type": "stream",
     "text": [
      "Khaidi No. 150\n",
      "2017\n",
      "V. V. Vinayak\n",
      "A convict who plans to escape the country unexpectedly switches his place with a good Samaritan who fights for the rights of poor farmers.\n",
      "['Chiranjeevi', 'Kajal Agarwal', 'Tarun Arora', 'Ali Basha', 'Ram Charan', 'Raai Laxmi', 'Brahmanandam', 'Raghu Babu', 'Raghu Karumanchi', 'Posani Krishna Murali', 'Devi Sri Prasad', 'Getup Srinu', 'Nagendra Babu', 'V. V. Vinayak', 'Fish Venkat', 'Narsing Yadav', 'Jayaprakash Reddy', 'Nassar', 'Prudhviraj']\n",
      "['Konidela Production Company', 'Lyca Productions']\n",
      "['India']\n",
      "[]\n",
      "['Telugu']\n",
      "['romance', 'thriller', 'action']\n",
      "[]\n",
      "\n",
      "\n",
      "Tagore\n",
      "2003\n",
      "V. V. Vinayak\n",
      "Tagore (Chiranjeevi) creates his own vigilante military network called the Anti-Corruption Force (ACF) that eliminates the most corrupt individuals, from all walks of life, in a systematic manner. As pressure builds on Police and Government to track down the Man who masterminds these killings, Balbir Singh (Puneet Issar), is specially summoned to head the task. He is aided by Suryam (Prakash Raj) who, though being just a constable in the mammoth Police force, is compelled by his instincts to see through the underlying design. Together they unravel the mystery and unveil the phenomenon called Tagore, but not before Badrinaryana (Sayaji Shinde), the human face of evil, finds out that his revelry in the belief of Tagore’s death was a mistake he can never make amends for.\n",
      "['Chiranjeevi', 'Jyothika', 'Shriya Saran', 'Prakash Raj', 'Sayaji Shinde', 'Sunil Varma', 'M. S. Narayana', 'K. Viswanath', 'Ahuti Prasad', 'V. V. Vinayak', 'Rama Prabha', 'Teja Sajja', 'Sameer Hasan', 'Venu Madhav', 'Dharmavarupu Subramanyam', 'Uttej', 'Raja Ravindra']\n",
      "[]\n",
      "['India']\n",
      "[]\n",
      "['Telugu']\n",
      "['action', 'drama']\n",
      "[]\n",
      "\n",
      "\n"
     ]
    }
   ],
   "source": [
    "def Input():\n",
    "    prompt = str(input())\n",
    "    prompt = re.sub(r'[^a-zA-Z0-9\\s]', '', prompt)\n",
    "    prompt = prompt.lower()\n",
    "    prompt = prompt.split(' ')\n",
    "    return prompt\n",
    "def title_out():\n",
    "    index = []\n",
    "    filtered_prompt = Input()\n",
    "    for i in range(len(titles)):   \n",
    "        names = titles[i].split(' ')                                # splitting every word in title \n",
    "        for p in filtered_prompt:\n",
    "            for n in names:\n",
    "                if(fuzz.ratio(p,n)>=85):\n",
    "                    index.append(i)                   # adding every index for every word in prompt\n",
    "    return index\n",
    "def year_out():\n",
    "    index = []\n",
    "    y = Input()\n",
    "    for i in range(len(years)):\n",
    "        if(y==years[i]):\n",
    "            index.append(i)\n",
    "    return index\n",
    "\n",
    "def direc_out():\n",
    "    index = []\n",
    "    filtered_prompt = Input()\n",
    "    for i in range(len(directors)):\n",
    "        direc = directors[i].split(' ')\n",
    "        for p in filtered_prompt:\n",
    "            for d in direc:\n",
    "                if(fuzz.ratio(p,d)>=90):\n",
    "                    index.append(i)\n",
    "    return index\n",
    "\n",
    "def cast_out():\n",
    "    index = []\n",
    "    filtered_prompt = Input()\n",
    "    for i in range(len(cast)):\n",
    "        actor = cast[i].split(' ')\n",
    "        for p in filtered_prompt:\n",
    "            for a in actor:\n",
    "                if(fuzz.ratio(p,a)>=90):\n",
    "                    index.append(i)\n",
    "    return index\n",
    "\n",
    "i1 = direc_out()\n",
    "i2 = cast_out()\n",
    "index = list(set(i1).intersection(set(i2)))\n",
    "def out(index):\n",
    "    f = dict(Counter(index))                 # checking frequency\n",
    "    sorted_index = sorted(f.items(), key = lambda x:x[1], reverse = True)      # sorting in decreasing order of frequency\n",
    "    f.clear()\n",
    "    for key, value in sorted_index:                                      # updating dict to sorted one because sorted_index returns tuple\n",
    "        f[key] = value\n",
    "    sorted_index = list(f.keys())\n",
    "    if(len(sorted_index)==0):\n",
    "        print('movie not found')\n",
    "    else:\n",
    "        for i in sorted_index:\n",
    "            for j in range(i*11,i*11+11):\n",
    "                print(info[j])\n",
    "            print('\\n')\n",
    "out(index)"
   ]
  },
  {
   "cell_type": "code",
   "execution_count": 54,
   "metadata": {},
   "outputs": [
    {
     "name": "stdout",
     "output_type": "stream",
     "text": [
      "['s.s.rajamouli']\n",
      "['s.s.rajamouli']\n"
     ]
    }
   ],
   "source": [
    "prompt = str(input())\n",
    "prompt = prompt.split(' ')\n",
    "print(prompt)\n",
    "filtered_prompt = []\n",
    "for i in prompt:\n",
    "    if(i not in stop_words):\n",
    "        filtered_prompt.append(i)\n",
    "print(filtered_prompt)"
   ]
  },
  {
   "cell_type": "code",
   "execution_count": 49,
   "metadata": {},
   "outputs": [
    {
     "name": "stdout",
     "output_type": "stream",
     "text": [
      "{2, 10}\n"
     ]
    }
   ],
   "source": [
    "year_in = input(\"year: \")\n",
    "dir_in = input(\"director: \")\n",
    "actors_in = input(\"actors: \")\n",
    "genres_in = input(\"genres: \")\n",
    "themes_in = input(\"themes: \")\n",
    "studios_in = input(\"studios: \")\n",
    "language_in = input(\"language: \")\n",
    "country_in = input(\"country: \")"
   ]
  },
  {
   "cell_type": "code",
   "execution_count": null,
   "metadata": {},
   "outputs": [],
   "source": []
  }
 ],
 "metadata": {
  "kernelspec": {
   "display_name": "Python 3",
   "language": "python",
   "name": "python3"
  },
  "language_info": {
   "codemirror_mode": {
    "name": "ipython",
    "version": 3
   },
   "file_extension": ".py",
   "mimetype": "text/x-python",
   "name": "python",
   "nbconvert_exporter": "python",
   "pygments_lexer": "ipython3",
   "version": "3.11.4"
  },
  "orig_nbformat": 4
 },
 "nbformat": 4,
 "nbformat_minor": 2
}
